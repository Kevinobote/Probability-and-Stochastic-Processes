{
 "cells": [
  {
   "cell_type": "markdown",
   "metadata": {},
   "source": [
    "# Weeks 12-13: Queuing Models\n",
    "\n",
    "**Objective:** Understand the components of a queuing system, learn the notation for describing queues, analyze the fundamental M/M/1 model, and simulate a queue to verify its theoretical properties."
   ]
  },
  {
   "cell_type": "markdown",
   "metadata": {},
   "source": [
    "## Step 1: Build Intuition\n",
    "\n",
    "We've all experienced queues: waiting in line at the grocery store, a coffee shop, or a bank; being on hold for customer service; or even waiting for a web page to load. Queuing theory is the mathematical study of waiting lines.\n",
    "\n",
    "It helps us answer practical business questions:\n",
    "- If we add another barista, how much will the average customer wait time decrease?\n",
    "- What is the probability that a customer arriving at the bank will find more than 5 people already in line?\n",
    "- How many servers do we need to ensure that 95% of customers are served within 3 minutes?\n",
    "\n",
    "A queuing model is a stochastic process that describes the flow of customers through a service system."
   ]
  },
  {
   "cell_type": "markdown",
   "metadata": {},
   "source": [
    "## Step 2: Understand the Core Idea\n",
    "\n",
    "A queuing system is characterized by three main components:\n",
    "\n",
    "1.  **The Arrival Process:** How customers arrive. Are arrivals random or scheduled? What is the average rate?\n",
    "2.  **The Service Process:** How long it takes to serve a customer. Is the service time constant or random?\n",
    "3.  **The System Configuration:** How many servers are there? Is there a limit to how many people can wait in the queue?\n",
    "\n",
    "### Kendall's Notation\n",
    "We use a standard shorthand called **Kendall's Notation (A/B/s)** to describe a queue:\n",
    "- **A:** The distribution of inter-arrival times.\n",
    "- **B:** The distribution of service times.\n",
    "- **s:** The number of parallel servers.\n",
    "\n",
    "Common codes for A and B include:\n",
    "- **M:** Markovian or Memoryless (meaning an Exponential distribution).\n",
    "- **D:** Deterministic (constant time).\n",
    "- **G:** General (any distribution).\n",
    "\n",
    "The most fundamental queue is the **M/M/1 queue**: Poisson arrivals (Exponential inter-arrival times), Exponential service times, and 1 server."
   ]
  },
  {
   "cell_type": "markdown",
   "metadata": {},
   "source": [
    "## Step 3: Learn the Definitions and Formulas (for M/M/1)\n",
    "\n",
    "For an M/M/1 queue, we define:\n",
    "- **\\(\\lambda\\):** The mean arrival rate (e.g., customers per hour). This comes from a Poisson process.\n",
    "- **\\(\\mu\\):** The mean service rate (e.g., customers per hour one server can handle). This means service times are Exponential with mean \\(1/\\mu\\).\n",
    "\n",
    "**Traffic Intensity (\\(\\rho\\))**\n",
    "This is the proportion of time the server is busy. It's a critical parameter.\n",
    "$$ \\rho = \\frac{\\lambda}{\\mu} $$\n",
    "For the queue to be **stable** (i.e., not grow infinitely long), we must have \\(\\rho < 1\\), which means \\(\\lambda < \\mu\\). The service rate must be greater than the arrival rate.\n",
    "\n",
    "--- \n",
    "\n",
    "**Key Performance Metrics for a Stable M/M/1 Queue:**\n",
    "\n",
    "1.  **\\(L\\):** Average number of customers in the **system** (waiting + being served).\n",
    "    $$ L = \\frac{\\rho}{1 - \\rho} = \\frac{\\lambda}{\\mu - \\lambda} $$\n",
    "2.  **\\(L_q\\):** Average number of customers in the **queue** (waiting).\n",
    "    $$ L_q = \\frac{\\rho^2}{1 - \\rho} = \\frac{\\lambda^2}{\\mu(\\mu - \\lambda)} $$\n",
    "3.  **\\(W\\):** Average time a customer spends in the **system** (waiting + service).\n",
    "    $$ W = \\frac{1}{\\mu - \\lambda} $$\n",
    "4.  **\\(W_q\\):** Average time a customer spends in the **queue** (waiting).\n",
    "    $$ W_q = \\frac{\\rho}{\\mu - \\lambda} = \\frac{\\lambda}{\\mu(\\mu - \\lambda)} $$\n",
    "5.  **\\(P_n\\):** Probability of having exactly \\(n\\) customers in the system.\n",
    "    $$ P_n = (1 - \\rho)\\rho^n $$"
   ]
  },
  {
   "cell_type": "markdown",
   "metadata": {},
   "source": [
    "## Step 4: Apply and Practice\n",
    "\n",
    "**Scenario:** A small coffee shop has one barista. Customers arrive at a rate of \\(\\lambda = 20\\) per hour. The barista can serve customers at a rate of \\(\\mu = 30\\) per hour.\n",
    "\n",
    "### Part A: Theoretical Calculation\n",
    "Let's use the formulas to analyze this M/M/1 queue."
   ]
  },
  {
   "cell_type": "code",
   "execution_count": null,
   "metadata": {},
   "outputs": [],
   "source": [
    "import numpy as np\n",
    "import matplotlib.pyplot as plt\n",
    "import heapq\n",
    "\n",
    "plt.style.use('seaborn-v0_8-whitegrid')\n",
    "\n",
    "# --- Parameters ---\n",
    "lambda_rate = 20.0  # Arrival rate (customers/hour)\n",
    "mu_rate = 30.0      # Service rate (customers/hour)\n",
    "\n",
    "# --- Calculations ---\n",
    "rho = lambda_rate / mu_rate\n",
    "\n",
    "L = rho / (1 - rho)\n",
    "Lq = rho**2 / (1 - rho)\n",
    "W = 1 / (mu_rate - lambda_rate)  # in hours\n",
    "Wq = rho / (mu_rate - lambda_rate) # in hours\n",
    "\n",
    "print(\"--- M/M/1 Queue Analysis ---\")\n",
    "print(f\"Arrival Rate (lambda): {lambda_rate}/hour\")\n",
    "print(f\"Service Rate (mu): {mu_rate}/hour\")\n",
    "print(f\"Traffic Intensity (rho): {rho:.4f}\")\n",
    "print(\"\\n--- Performance Metrics ---\")\n",
    "print(f\"Avg # of customers in system (L): {L:.4f}\")\n",
    "print(f\"Avg # of customers in queue (Lq): {Lq:.4f}\")\n",
    "print(f\"Avg time in system (W): {W * 60:.4f} minutes\")\n",
    "print(f\"Avg time in queue (Wq): {Wq * 60:.4f} minutes\")"
   ]
  },
  {
   "cell_type": "markdown",
   "metadata": {},
   "source": [
    "### Part B: Verifying with a Discrete-Event Simulation\n",
    "\n",
    "The formulas are powerful, but building a simulation gives a much deeper understanding of how the system dynamics lead to these results. We will simulate the coffee shop for a very long time and track every customer to see if our simulated averages match the theory."
   ]
  },
  {
   "cell_type": "code",
   "execution_count": null,
   "metadata": {},
   "outputs": [],
   "source": [
    "def simulate_mm1_queue(lambda_rate, mu_rate, max_customers):\n",
    "    \"\"\"Simulates an M/M/1 queue and returns performance metrics.\"\"\"\n",
    "    # State variables\n",
    "    current_time = 0.0\n",
    "    server_busy_until = 0.0\n",
    "    \n",
    "    # Data collection\n",
    "    total_wait_time = 0.0\n",
    "    total_system_time = 0.0\n",
    "    \n",
    "    for _ in range(max_customers):\n",
    "        # 1. Generate next arrival\n",
    "        # Inter-arrival time is Exponential(lambda)\n",
    "        inter_arrival_time = np.random.exponential(1.0 / lambda_rate)\n",
    "        current_time += inter_arrival_time\n",
    "        arrival_time = current_time\n",
    "        \n",
    "        # 2. Calculate wait time\n",
    "        # The customer can start service either now or when the server is free\n",
    "        start_service_time = max(arrival_time, server_busy_until)\n",
    "        wait_time = start_service_time - arrival_time\n",
    "        total_wait_time += wait_time\n",
    "        \n",
    "        # 3. Generate service time and update server status\n",
    "        # Service time is Exponential(mu)\n",
    "        service_time = np.random.exponential(1.0 / mu_rate)\n",
    "        departure_time = start_service_time + service_time\n",
    "        server_busy_until = departure_time\n",
    "        \n",
    "        # 4. Calculate system time\n",
    "        system_time = departure_time - arrival_time\n",
    "        total_system_time += system_time\n",
    "        \n",
    "    # Calculate averages\n",
    "    avg_Wq = total_wait_time / max_customers\n",
    "    avg_W = total_system_time / max_customers\n",
    "    \n",
    "    # Use Little's Law to get L and Lq\n",
    "    avg_L = lambda_rate * avg_W\n",
    "    avg_Lq = lambda_rate * avg_Wq\n",
    "    \n",
    "    return avg_L, avg_Lq, avg_W, avg_Wq\n",
    "\n",
    "# --- Simulation Parameters ---\n",
    "N_CUSTOMERS = 100000 # Simulate a large number of customers for convergence\n",
    "\n",
    "# Run the simulation\n",
    "sim_L, sim_Lq, sim_W, sim_Wq = simulate_mm1_queue(lambda_rate, mu_rate, N_CUSTOMERS)\n",
    "\n",
    "print(\"\\n--- Simulation Results ---\")\n",
    "print(f\"Simulated Avg # in system (L): {sim_L:.4f} (Theoretical: {L:.4f})\")\n",
    "print(f\"Simulated Avg # in queue (Lq): {sim_Lq:.4f} (Theoretical: {Lq:.4f})\")\n",
    "print(f\"Simulated Avg time in system (W): {sim_W * 60:.4f} minutes (Theoretical: {W * 60:.4f})\")\n",
    "print(f\"Simulated Avg time in queue (Wq): {sim_Wq * 60:.4f} minutes (Theoretical: {Wq * 60:.4f})\")"
   ]
  },
  {
   "cell_type": "markdown",
   "metadata": {},
   "source": [
    "**Interpretation:**\n",
    "\n",
    "The results from our discrete-event simulation are remarkably close to the theoretical values predicted by the M/M/1 formulas. This gives us high confidence in both the theory and our simulation model. It beautifully demonstrates how the interaction of random arrivals and random service times leads to the predictable long-run averages."
   ]
  },
  {
   "cell_type": "markdown",
   "metadata": {},
   "source": [
    "### Visualizing the Impact of Traffic Intensity (ρ)\n",
    "\n",
    "Let's see how the average wait time explodes as the arrival rate (\\(\\lambda\\)) gets closer to the service rate (\\(\\mu\\)), causing \\(\\rho\\) to approach 1."
   ]
  },
  {
   "cell_type": "code",
   "execution_count": null,
   "metadata": {},
   "outputs": [],
   "source": [
    "rho_values = np.linspace(0.01, 0.99, 100)\n",
    "mu_fixed = 30.0\n",
    "\n",
    "# W = 1 / (mu - lambda) = 1 / (mu - rho*mu) = 1 / (mu * (1-rho))\n",
    "W_values = 1 / (mu_fixed * (1 - rho_values))\n",
    "\n",
    "plt.figure(figsize=(12, 6))\n",
    "plt.plot(rho_values, W_values * 60) # Convert to minutes\n",
    "plt.title('Average Time in System (W) vs. Traffic Intensity ($\\rho$)')\n",
    "plt.xlabel('Traffic Intensity ($\\rho = \\lambda/\\mu$)')\n",
    "plt.ylabel('Average Time in System (minutes)')\n",
    "plt.grid(True)\n",
    "plt.show()"
   ]
  },
  {
   "cell_type": "markdown",
   "metadata": {},
   "source": [
    "This plot is crucial for any operations manager. It shows that as the system gets closer to full utilization (\\(\\rho \\to 1\\)), the waiting times don't just increase linearly; they increase exponentially. A system running at 95% capacity has dramatically longer queues than one running at 80% capacity."
   ]
  },
  {
   "cell_type": "markdown",
   "metadata": {},
   "source": [
    "## Summary & Next Steps\n",
    "\n",
    "In this notebook, we've dived into the world of queuing theory:\n",
    "1.  Queues are described by their **arrival process**, **service process**, and **number of servers** (A/B/s).\n",
    "2.  The **M/M/1 queue** is the most fundamental model, with Poisson arrivals and Exponential service times.\n",
    "3.  The system's behavior is governed by the **traffic intensity \\(\\rho = \\lambda/\\mu\\)**, which must be less than 1 for stability.\n",
    "4.  We derived key performance metrics (L, Lq, W, Wq) and verified them with a discrete-event simulation.\n",
    "\n",
    "In **Week 14**, we will look at **Birth-and-Death Processes**, which provide a general framework for modeling systems where the state (e.g., number of customers) only increases or decreases by one at a time. The M/M/1 queue is a classic example of a birth-and-death process."
   ]
  }
 ],
 "metadata": {
  "kernelspec": {
   "display_name": "Python 3",
   "language": "python",
   "name": "python3"
  },
  "language_info": {
   "codemirror_mode": {
    "name": "ipython",
    "version": 3
   },
   "file_extension": ".py",
   "mimetype": "text/x-python",
   "name": "python",
   "nbconvert_exporter": "python",
   "pygments_lexer": "ipython3",
   "version": "3.9.7"
  }
 },
 "nbformat": 4,
 "nbformat_minor": 4
}