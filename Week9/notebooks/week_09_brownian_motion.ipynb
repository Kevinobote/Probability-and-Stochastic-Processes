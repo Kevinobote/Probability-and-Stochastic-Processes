{
 "cells": [
  {
   "cell_type": "markdown",
   "metadata": {},
   "source": [
    "# Weeks 8-9: Brownian Motion\n",
    "\n",
    "**Objective:** Understand Brownian motion as the continuous-time limit of a random walk, learn its defining properties, and simulate its paths to visualize its behavior."
   ]
  },
  {
   "cell_type": "markdown",
   "metadata": {},
   "source": [
    "## Step 1: Build Intuition\n",
    "\n",
    "Imagine a tiny particle, like a grain of pollen, suspended in water. When you look at it under a microscope, you'll see it moving around in a random, jittery, and unpredictable way. This is because it's constantly being bombarded by water molecules. This phenomenon, first observed by Robert Brown, is the classic image of **Brownian motion**.\n",
    "\n",
    "Think of it as a **random walk in continuous time**. Instead of taking a discrete step every second, the particle is taking infinitely many, infinitesimally small random steps at all times. The result is a path that is continuous (it doesn't teleport), but also incredibly erratic and \"jagged\"."
   ]
  },
  {
   "cell_type": "markdown",
   "metadata": {},
   "source": [
    "## Step 2: Understand the Core Idea\n",
    "\n",
    "Brownian motion (also called a **Wiener Process**) is a specific type of continuous-time stochastic process, denoted \\(W(t)\\) or \\(W_t\\). Its behavior is defined by a few key properties:\n",
    "\n",
    "1.  **Starts at Zero:** The process always starts at the origin: \\(W(0) = 0\\).\n",
    "2.  **Continuous Paths:** The path \\(W(t)\\) is continuous everywhere. There are no jumps.\n",
    "3.  **Independent Increments:** The change in the process over one time interval, \\(W(t) - W(s)\\), is independent of the change over any other *non-overlapping* interval, \\(W(v) - W(u)\\).\n",
    "4.  **Normal, Stationary Increments:** The change over any time interval of length \\(s\\) is normally distributed with a mean of 0 and a variance equal to the length of the interval, \\(s\\). \n",
    "    - That is, \\(W(t+s) - W(t) \\sim \\mathcal{N}(0, s)\\).\n",
    "    - This also means \\(W(t) \\sim \\mathcal{N}(0, t)\\), since \\(W(t) = W(t) - W(0)\\)."
   ]
  },
  {
   "cell_type": "markdown",
   "metadata": {},
   "source": [
    "## Step 3: Learn the Definitions and Formulas\n",
    "\n",
    "**Definition: Standard Brownian Motion (or Wiener Process)**\n",
    "A stochastic process \\({W(t), t \\ge 0}\\) is a standard Brownian motion if it satisfies:\n",
    "1.  \\(W(0) = 0\\).\n",
    "2.  With probability 1, the function \\(t \\mapsto W(t)\\) is continuous in \\(t\\).\n",
    "3.  The process has independent increments.\n",
    "4.  For any \\(s < t\\), the increment \\(W(t) - W(s)\\) is a random variable from a normal distribution with mean 0 and variance \\(t-s\\): \\(W(t) - W(s) \\sim \\mathcal{N}(0, t-s)\\).\n",
    "\n",
    "**Is Brownian Motion a Martingale?**\n",
    "Yes! A standard Brownian motion is a martingale. We can check the condition \\(E[W(t) | \\mathcal{F}_s] = W(s)\\) for \\(s < t\\).\n",
    "\\(E[W(t) | \\mathcal{F}_s] = E[W(t) - W(s) + W(s) | \\mathcal{F}_s]\\)\n",
    "\\(= E[W(t) - W(s) | \\mathcal{F}_s] + E[W(s) | \\mathcal{F}_s]\\)\n",
    "- Because of independent increments, \\(E[W(t) - W(s) | \\mathcal{F}_s] = E[W(t) - W(s)] = 0\\).\n",
    "- Because \\(W(s)\\) is known at time \\(s\\), \\(E[W(s) | \\mathcal{F}_s] = W(s)\\).\n",
    "So, \\(E[W(t) | \\mathcal{F}_s] = 0 + W(s) = W(s)\\). It satisfies the martingale property."
   ]
  },
  {
   "cell_type": "markdown",
   "metadata": {},
   "source": [
    "## Step 4: Apply and Practice\n",
    "\n",
    "We can't perfectly simulate a continuous process on a computer. Instead, we approximate it by taking very small discrete time steps. This is called the **Euler-Maruyama method**.\n",
    "\n",
    "If we divide our time horizon \\(T\\) into \\(N\\) small steps of size \\(\\Delta t = T/N\\), then the change in the process over one small step is:\n",
    "$$ \\Delta W_t = W(t + \\Delta t) - W(t) \\sim \\mathcal{N}(0, \\Delta t) $$\n",
    "We can rewrite this as \\(\\Delta W_t = Z \\sqrt{\\Delta t}\\), where \\(Z \\sim \\mathcal{N}(0, 1)\\) is a standard normal random variable.\n",
    "\n",
    "This gives us a simple update rule for simulation:\n",
    "$$ W(t_{i+1}) = W(t_i) + Z_i \\sqrt{\\Delta t} $$"
   ]
  },
  {
   "cell_type": "code",
   "execution_count": null,
   "metadata": {},
   "outputs": [],
   "source": [
    "import numpy as np\n",
    "import matplotlib.pyplot as plt\n",
    "from scipy.stats import norm\n",
    "\n",
    "plt.style.use('seaborn-v0_8-whitegrid')"
   ]
  },
  {
   "cell_type": "markdown",
   "metadata": {},
   "source": [
    "### Part A: Simulating and Visualizing Brownian Motion Paths"
   ]
  },
  {
   "cell_type": "code",
   "execution_count": null,
   "metadata": {},
   "outputs": [],
   "source": [
    "def simulate_brownian_motion(T, N):\n",
    "    \"\"\"\n",
    "    Simulates a path of standard Brownian motion.\n",
    "    \n",
    "    Args:\n",
    "        T (float): The time horizon.\n",
    "        N (int): The number of time steps.\n",
    "        \n",
    "    Returns:\n",
    "        tuple: A tuple containing (time_axis, path).\n",
    "    \"\"\"\n",
    "    dt = T / N\n",
    "    # Generate the random increments, Z * sqrt(dt)\n",
    "    # Z ~ N(0, 1), so increments ~ N(0, dt)\n",
    "    increments = np.random.normal(loc=0, scale=np.sqrt(dt), size=N)\n",
    "    \n",
    "    # Prepend 0 for the starting point and take the cumulative sum\n",
    "    path = np.concatenate(([0], increments)).cumsum()\n",
    "    \n",
    "    time_axis = np.linspace(0, T, N + 1)\n",
    "    \n",
    "    return time_axis, path\n",
    "\n",
    "# --- Simulation Parameters ---\n",
    "TIME_HORIZON = 1.0  # Simulate for 1 unit of time\n",
    "NUM_STEPS = 500     # Number of time steps\n",
    "NUM_PATHS = 5       # Number of different paths to visualize\n",
    "\n",
    "# --- Plotting ---\n",
    "plt.figure(figsize=(14, 8))\n",
    "\n",
    "for _ in range(NUM_PATHS):\n",
    "    t, path = simulate_brownian_motion(TIME_HORIZON, NUM_STEPS)\n",
    "    plt.plot(t, path)\n",
    "\n",
    "plt.title(f'{NUM_PATHS} Simulated Paths of Brownian Motion')\n",
    "plt.xlabel('Time (t)')\n",
    "plt.ylabel('Value W(t)')\n",
    "plt.axhline(0, color='black', linestyle='--')\n",
    "plt.grid(True)\n",
    "plt.show()"
   ]
  },
  {
   "cell_type": "markdown",
   "metadata": {},
   "source": [
    "### Part B: Verifying the Distribution of W(T)\n",
    "\n",
    "The theory says that the position at the end of our simulation, \\(W(T)\\), should follow a normal distribution \\(\\mathcal{N}(0, T)\\).\n",
    "\n",
    "Let's test this by running many simulations and plotting a histogram of the final positions."
   ]
  },
  {
   "cell_type": "code",
   "execution_count": null,
   "metadata": {},
   "outputs": [],
   "source": [
    "N_SIMS = 10000\n",
    "final_positions = []\n",
    "\n",
    "for _ in range(N_SIMS):\n",
    "    t, path = simulate_brownian_motion(TIME_HORIZON, NUM_STEPS)\n",
    "    final_positions.append(path[-1]) # Get the last value of the path\n",
    "\n",
    "# Plot the histogram of the final positions\n",
    "plt.figure(figsize=(12, 6))\n",
    "plt.hist(final_positions, bins=50, density=True, alpha=0.7, label='Simulated Final Positions')\n",
    "\n",
    "# Overlay the theoretical Normal PDF\n",
    "# Mean = 0, Std Dev = sqrt(T)\n",
    "mu = 0\n",
    "sigma = np.sqrt(TIME_HORIZON)\n",
    "x = np.linspace(min(final_positions), max(final_positions), 200)\n",
    "pdf = norm.pdf(x, mu, sigma)\n",
    "plt.plot(x, pdf, 'r-', linewidth=2, label=f'Theoretical PDF: N(0, {TIME_HORIZON})')\n",
    "\n",
    "plt.title(f'Distribution of W(T) at T={TIME_HORIZON} over {N_SIMS} Simulations')\n",
    "plt.xlabel('Final Position W(T)')\n",
    "plt.ylabel('Density')\n",
    "plt.legend()\n",
    "plt.show()\n",
    "\n",
    "print(f\"Mean of final positions from simulation: {np.mean(final_positions):.4f} (Theoretical: 0)\")\n",
    "print(f\"Variance of final positions from simulation: {np.var(final_positions):.4f} (Theoretical: {TIME_HORIZON})\")"
   ]
  },
  {
   "cell_type": "markdown",
   "metadata": {},
   "source": [
    "**Interpretation:**\n",
    "\n",
    "The simulation results are a stunning confirmation of the theory. The histogram of the final positions of thousands of Brownian paths perfectly matches the theoretical normal distribution curve. The simulated mean and variance are also extremely close to their theoretical values of 0 and T, respectively."
   ]
  },
  {
   "cell_type": "markdown",
   "metadata": {},
   "source": [
    "## Summary & Next Steps\n",
    "\n",
    "In this notebook, we've explored the most important continuous-time stochastic process:\n",
    "1.  **Brownian Motion** is the continuous-time limit of a random walk.\n",
    "2.  It is defined by its **continuous paths** and **stationary, independent, normally distributed increments**.\n",
    "3.  It is a **martingale**.\n",
    "4.  We can simulate it by taking small discrete steps, where each step is a random draw from a normal distribution scaled by \\(\\sqrt{\\Delta t}\\).\n",
    "\n",
    "Brownian motion is the starting point for stochastic calculus and the modeling of asset prices in finance (e.g., the Black-Scholes model).\n",
    "\n",
    "In **Weeks 10-11**, we will introduce **Renewal Processes**, which generalize the Poisson process by allowing the time between events to follow any distribution, not just the exponential."
   ]
  }
 ],
 "metadata": {
  "kernelspec": {
   "display_name": "Python 3",
   "language": "python",
   "name": "python3"
  },
  "language_info": {
   "codemirror_mode": {
    "name": "ipython",
    "version": 3
   },
   "file_extension": ".py",
   "mimetype": "text/x-python",
   "name": "python",
   "nbconvert_exporter": "python",
   "pygments_lexer": "ipython3",
   "version": "3.9.7"
  }
 },
 "nbformat": 4,
 "nbformat_minor": 4
}