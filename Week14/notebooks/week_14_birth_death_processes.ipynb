{
 "cells": [
  {
   "cell_type": "markdown",
   "metadata": {},
   "source": [
    "# Week 14: Birth-and-Death Processes\n",
    "\n",
    "**Objective:** Understand birth-and-death processes as a general framework for continuous-time Markov chains, derive the balance equations, and solve for the stationary distribution."
   ]
  },
  {
   "cell_type": "markdown",
   "metadata": {},
   "source": [
    "## Step 1: Build Intuition\n",
    "\n",
    "Imagine a population (of people, customers in a store, molecules in a chemical reaction, etc.). Over time, the size of this population changes. A **birth-and-death process** is a simple yet powerful model for such a system, with one key restriction: the population size only ever changes by one at a time.\n",
    "\n",
    "- A **\"birth\"** is an event that increases the population size by one (e.g., a customer arrives).\n",
    "- A **\"death\"** is an event that decreases the population size by one (e.g., a customer finishes service and leaves).\n",
    "\n",
    "Many processes we've already studied are actually birth-and-death processes! The M/M/1 queue is a perfect example: the state (number of customers) only increases by one (an arrival) or decreases by one (a departure)."
   ]
  },
  {
   "cell_type": "markdown",
   "metadata": {},
   "source": [
    "## Step 2: Understand the Core Idea\n",
    "\n",
    "A birth-and-death process is a special type of continuous-time Markov chain where transitions from state \\(n\\) are only allowed to state \\(n+1\\) or \\(n-1\\).\n",
    "\n",
    "The entire process is defined by two sets of parameters:\n",
    "1.  **Birth Rates (\\(\\lambda_n\\)):** The rate at which births occur when the population size is \\(n\\). This is the rate of transition from state \\(n\\) to \\(n+1\\).\n",
    "2.  **Death Rates (\\(\\mu_n\\)):** The rate at which deaths occur when the population size is \\(n\\). This is the rate of transition from state \\(n\\) to \\(n-1\\).\n",
    "\n",
    "Crucially, these rates can **depend on the current state \\(n\\)**. For example, in a queue with multiple servers, the death (service) rate depends on how many servers are busy. In a population, the birth rate might decrease if the population becomes overcrowded."
   ]
  },
  {
   "cell_type": "markdown",
   "metadata": {},
   "source": [
    "## Step 3: Learn the Definitions and Formulas\n",
    "\n",
    "**Definition: Birth-and-Death Process**\n",
    "A continuous-time Markov chain on the states \\({0, 1, 2, ...}\\) is a birth-and-death process if its transition rates \\(q_{ij}\\) are non-zero only for \\(j = i+1\\) or \\(j = i-1\\).\n",
    "- \\(q_{n, n+1} = \\lambda_n\\) (birth rate at state n)\n",
    "- \\(q_{n, n-1} = \\mu_n\\) (death rate at state n)\n",
    "\n",
    "--- \n",
    "\n",
    "**Stationary Distribution (\\(\\pi_n\\))**\n",
    "We are often interested in the long-run probability of being in each state, \\(\\pi_n = P(X=n)\\). To find this, we use the **balance equations**. The core idea is that in equilibrium, the rate of flow *out* of a state must equal the rate of flow *into* that state.\n",
    "\n",
    "For any state \\(n\\), the detailed balance equation is:\n",
    "$$ \\text{Rate of leaving } n \\text{ for } n+1 = \\text{Rate of entering } n \\text{ from } n+1 $$\n",
    "$$ \\pi_n \\lambda_n = \\pi_{n+1} \\mu_{n+1} $$\n",
    "\n",
    "We can solve this recursively:\n",
    "\\(\\pi_1 = \\frac{\\lambda_0}{\\mu_1} \\pi_0\\)\n",
    "\\(\\pi_2 = \\frac{\\lambda_1}{\\mu_2} \\pi_1 = \\frac{\\lambda_1 \\lambda_0}{\\mu_2 \\mu_1} \\pi_0\\)\n",
    "\n",
    "This leads to the general solution for \\(\\pi_n\\) in terms of \\(\\pi_0\\):\n",
    "$$ \\pi_n = \\pi_0 \\prod_{i=0}^{n-1} \\frac{\\lambda_i}{\\mu_{i+1}} $$\n",
    "\n",
    "To find \\(\\pi_0\\), we use the fact that all probabilities must sum to 1:\n",
    "$$ \\sum_{n=0}^{\\infty} \\pi_n = 1 \\implies \\pi_0 \\left(1 + \\sum_{n=1}^{\\infty} \\prod_{i=0}^{n-1} \\frac{\\lambda_i}{\\mu_{i+1}}\\right) = 1 $$\n",
    "$$ \\pi_0 = \\frac{1}{1 + \\sum_{n=1}^{\\infty} \\prod_{i=0}^{n-1} \\frac{\\lambda_i}{\\mu_{i+1}}} $$"
   ]
  },
  {
   "cell_type": "markdown",
   "metadata": {},
   "source": [
    "## Step 4: Apply and Practice\n",
    "\n",
    "Let's show that this general framework gives us the exact same results for the **M/M/1 queue** we analyzed in Week 12.\n",
    "\n",
    "**Scenario:** An M/M/1 queue with arrival rate \\(\\lambda\\) and service rate \\(\\mu\\).\n",
    "\n",
    "**Mapping to a Birth-and-Death Process:**\n",
    "- The state \\(n\\) is the number of customers in the system.\n",
    "- **Births:** Arrivals happen at a constant rate, regardless of the number of customers. So, \\(\\lambda_n = \\lambda\\) for all \\(n = 0, 1, 2, ...\\).\n",
    "- **Deaths:** Departures (service completions) happen only if there is a customer to serve (\\(n > 0\\)). The rate is constant as long as the server is busy. So, \\(\\mu_n = \\mu\\) for all \\(n = 1, 2, ...\\). (And \\(\\mu_0 = 0\\))."
   ]
  },
  {
   "cell_type": "code",
   "execution_count": null,
   "metadata": {},
   "outputs": [],
   "source": [
    "import numpy as np\n",
    "import matplotlib.pyplot as plt\n",
    "\n",
    "plt.style.use('seaborn-v0_8-whitegrid')"
   ]
  },
  {
   "cell_type": "markdown",
   "metadata": {},
   "source": [
    "### Part A: Deriving the M/M/1 Stationary Distribution\n",
    "\n",
    "Let's use the general formula for \\(\\pi_n\\) with our M/M/1 rates.\n",
    "$$ \\pi_n = \\pi_0 \\prod_{i=0}^{n-1} \\frac{\\lambda_i}{\\mu_{i+1}} = \\pi_0 \\frac{\\lambda_0}{\\mu_1} \\frac{\\lambda_1}{\\mu_2} \\cdots \\frac{\\lambda_{n-1}}{\\mu_n} $$\n",
    "Substitute \\(\\lambda_i = \\lambda\\) and \\(\\mu_i = \\mu\\):\n",
    "$$ \\pi_n = \\pi_0 \\frac{\\lambda}{\\mu} \\frac{\\lambda}{\\mu} \\cdots \\frac{\\lambda}{\\mu} \\quad (n \\text{ times}) $$\n",
    "$$ \\pi_n = \\pi_0 \\left(\\frac{\\lambda}{\\mu}\\right)^n = \\pi_0 \\rho^n $$\n",
    "This is the same relationship we saw before! Now let's find \\(\\pi_0\\) using the normalization condition:\n",
    "$$ \\sum_{n=0}^{\\infty} \\pi_n = \\sum_{n=0}^{\\infty} \\pi_0 \\rho^n = \\pi_0 \\sum_{n=0}^{\\infty} \\rho^n = 1 $$\n",
    "The sum is a geometric series, which converges to \\(\\frac{1}{1-\\rho}\\) for \\(\\rho < 1\\).\n",
    "$$ \\pi_0 \\left(\\frac{1}{1-\\rho}\\right) = 1 \\implies \\pi_0 = 1 - \\rho $$\n",
    "Therefore, the final stationary distribution is:\n",
    "$$ \\pi_n = (1 - \\rho) \\rho^n $$\n",
    "This perfectly matches the known result for an M/M/1 queue, showing the power and generality of the birth-and-death framework."
   ]
  },
  {
   "cell_type": "markdown",
   "metadata": {},
   "source": [
    "### Part B: Visualizing the M/M/1 Distribution\n",
    "\n",
    "Let's write a simple Python function to calculate and plot these probabilities."
   ]
  },
  {
   "cell_type": "code",
   "execution_count": null,
   "metadata": {},
   "outputs": [],
   "source": [
    "def plot_mm1_distribution(lambda_rate, mu_rate, max_n=20):\n",
    "    \"\"\"Calculates and plots the stationary distribution of an M/M/1 queue.\"\"\"\n",
    "    if lambda_rate >= mu_rate:\n",
    "        print(\"Queue is unstable. No stationary distribution.\")\n",
    "        return\n",
    "    \n",
    "    rho = lambda_rate / mu_rate\n",
    "    pi_0 = 1 - rho\n",
    "    \n",
    "    n_values = np.arange(0, max_n + 1)\n",
    "    pi_n_values = pi_0 * (rho ** n_values)\n",
    "    \n",
    "    plt.figure(figsize=(12, 6))\n",
    "    plt.bar(n_values, pi_n_values, alpha=0.7, label=f'$\\pi_n$ for $\\rho={rho:.2f}$')\n",
    "    plt.title('Stationary Distribution of an M/M/1 Queue')\n",
    "    plt.xlabel('Number of Customers in System (n)')\n",
    "    plt.ylabel('Probability ($\\pi_n$)')\n",
    "    plt.xticks(n_values)\n",
    "    plt.legend()\n",
    "    plt.grid(axis='y')\n",
    "    plt.show()\n",
    "    \n",
    "    print(f\"Probability system is empty (pi_0): {pi_n_values[0]:.4f}\")\n",
    "    print(f\"Probability of 5 customers (pi_5): {pi_n_values[5]:.4f}\")\n",
    "    print(f\"Sum of probabilities up to n={max_n}: {np.sum(pi_n_values):.4f}\")\n",
    "\n",
    "# Use the coffee shop example from Week 12\n",
    "lambda_rate_shop = 20.0\n",
    "mu_rate_shop = 30.0\n",
    "plot_mm1_distribution(lambda_rate_shop, mu_rate_shop)\n",
    "\n",
    "# Example with higher utilization\n",
    "plot_mm1_distribution(lambda_rate=28.0, mu_rate=30.0)"
   ]
  },
  {
   "cell_type": "markdown",
   "metadata": {},
   "source": [
    "**Interpretation:**\n",
    "\n",
    "The plots show the geometric nature of the M/M/1 stationary distribution. \n",
    "- When utilization \\(\\rho\\) is low, the probability of having many customers in the system drops off very quickly.\n",
    "- As utilization gets higher (e.g., \\(\\rho = 0.93\\) in the second plot), the probability of being empty (\\(\\pi_0\\)) becomes very small, and the distribution has a much \"heavier tail,\" meaning there's a significant chance of finding many customers in the system."
   ]
  },
  {
   "cell_type": "markdown",
   "metadata": {},
   "source": [
    "## Summary & Course Conclusion\n",
    "\n",
    "In this final notebook, we've seen how the **Birth-and-Death Process** provides a unifying theoretical framework:\n",
    "1.  It models any continuous-time Markov process where the state only changes by +1 or -1.\n",
    "2.  The system is fully described by state-dependent **birth rates (\\(\\lambda_n\\))** and **death rates (\\(\\mu_n\\))**.\n",
    "3.  The **balance equations** provide a straightforward method for finding the long-run stationary distribution, \\(\\pi_n\\).\n",
    "4.  We successfully re-derived the M/M/1 queue's stationary distribution, showing it is a specific instance of this more general model.\n",
    "\n",
    "Congratulations on completing the journey through Probability and Stochastic Processes! You have built a strong foundation, moving from basic definitions to random walks, Markov chains, Poisson processes, queuing theory, and finally to the general birth-and-death framework that ties many of these concepts together. You are now well-equipped to model and analyze a wide variety of random systems in the real world."
   ]
  }
 ],
 "metadata": {
  "kernelspec": {
   "display_name": "Python 3",
   "language": "python",
   "name": "python3"
  },
  "language_info": {
   "codemirror_mode": {
    "name": "ipython",
    "version": 3
   },
   "file_extension": ".py",
   "mimetype": "text/x-python",
   "name": "python",
   "nbconvert_exporter": "python",
   "pygments_lexer": "ipython3",
   "version": "3.9.7"
  }
 },
 "nbformat": 4,
 "nbformat_minor": 4
}