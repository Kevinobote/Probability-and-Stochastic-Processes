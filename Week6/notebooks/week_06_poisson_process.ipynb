{
 "cells": [
  {
   "cell_type": "markdown",
   "metadata": {},
   "source": [
    "# Week 6: The Poisson Process\n",
    "\n",
    "**Objective:** Understand the Poisson process as a model for counting random events in continuous time, learn its fundamental properties, and simulate it to verify its theoretical characteristics."
   ]
  },
  {
   "cell_type": "markdown",
   "metadata": {},
   "source": [
    "## Step 1: Build Intuition\n",
    "\n",
    "Imagine you're working at a call center. Phone calls seem to arrive at random, but you know that on average, you get about 10 calls per hour. The Poisson process is the perfect tool to model this scenario.\n",
    "\n",
    "It's a **counting process**. It counts the number of events (e.g., phone calls, emails, customers arriving, radioactive decays) that have occurred up to a certain point in time. \n",
    "\n",
    "The key intuitive ideas are:\n",
    "1.  Events happen at a constant average **rate**.\n",
    "2.  The timing of one event tells you nothing about when the next one will occur (the process is **memoryless**).\n",
    "3.  Events don't happen at the exact same time."
   ]
  },
  {
   "cell_type": "markdown",
   "metadata": {},
   "source": [
    "## Step 2: Understand the Core Idea\n",
    "\n",
    "The Poisson process, denoted \\(N(t)\\), counts the number of events up to time \\(t\\). It's defined by a few simple but powerful properties:\n",
    "\n",
    "1.  **Starts at Zero:** The count begins at time 0, so \\(N(0) = 0\\).\n",
    "2.  **Independent Increments:** The number of events in one time interval is independent of the number of events in any *non-overlapping* time interval. (The number of calls between 9 AM and 10 AM doesn't affect the number of calls between 2 PM and 3 PM).\n",
    "3.  **Stationary Increments:** The probability distribution of the number of events depends only on the *length* of the time interval, not its location. (The probability of getting 5 calls in any 1-hour window is the same, whether it's 9-10 AM or 2-3 PM).\n",
    "4.  **Rate of Events:** For a very small time interval \\(h\\), the probability of one event occurring is approximately \\(\\lambda h\\), where \\(\\lambda\\) is the constant rate of events. The probability of more than one event is essentially zero."
   ]
  },
  {
   "cell_type": "markdown",
   "metadata": {},
   "source": [
    "## Step 3: Learn the Definitions and Formulas\n",
    "\n",
    "**Definition: Poisson Process**\n",
    "A counting process \\({N(t), t \\ge 0}\\) is a Poisson process with rate \\(\\lambda > 0\\) if it satisfies the core properties listed above.\n",
    "\n",
    "--- \n",
    "\n",
    "**Key Result 1: Distribution of the Number of Events**\n",
    "The number of events \\(N(t)\\) that occur in any interval of length \\(t\\) follows a **Poisson distribution** with mean \\(\\lambda t\\).\n",
    "$$ P(N(t) = k) = \\frac{e^{-\\lambda t} (\\lambda t)^k}{k!}, \\quad k = 0, 1, 2, ... $$\n",
    "\n",
    "--- \n",
    "\n",
    "**Key Result 2: Distribution of Inter-arrival Times**\n",
    "Let \\(T_i\\) be the time between the \\((i-1)\\)-th and the \\(i\\)-th event. These are called the **inter-arrival times**. For a Poisson process, the inter-arrival times \\(T_1, T_2, ...\\) are independent and identically distributed random variables, each following an **Exponential distribution** with rate \\(\\lambda\\).\n",
    "$$ f_{T_i}(t) = \\lambda e^{-\\lambda t}, \\quad t \\ge 0 $$\n",
    "The mean inter-arrival time is \\(E[T_i] = 1/\\lambda\\). This makes perfect sense: if calls arrive at a rate of 10 per hour, the average time between calls is 1/10th of an hour (6 minutes)."
   ]
  },
  {
   "cell_type": "markdown",
   "metadata": {},
   "source": [
    "## Step 4: Apply and Practice\n",
    "\n",
    "The relationship between the Poisson process and the Exponential distribution gives us a beautiful way to simulate it. We can generate the random times *between* events and then add them up to find the time *at which* each event occurs.\n",
    "\n",
    "**Scenario:** Let's simulate a Poisson process for a call center where calls arrive at an average rate of \\(\\lambda = 5\\) calls per hour, over a period of 2 hours."
   ]
  },
  {
   "cell_type": "code",
   "execution_count": null,
   "metadata": {},
   "outputs": [],
   "source": [
    "import numpy as np\n",
    "import matplotlib.pyplot as plt\n",
    "from scipy.stats import poisson\n",
    "\n",
    "plt.style.use('seaborn-v0_8-whitegrid')"
   ]
  },
  {
   "cell_type": "markdown",
   "metadata": {},
   "source": [
    "### Part A: Simulating a Poisson Process Path\n",
    "\n",
    "We will simulate the process by generating exponential inter-arrival times."
   ]
  },
  {
   "cell_type": "code",
   "execution_count": null,
   "metadata": {},
   "outputs": [],
   "source": [
    "def simulate_poisson_process(rate, time_period):\n",
    "    \"\"\"\n",
    "    Simulates a single path of a Poisson process.\n",
    "    \n",
    "    Args:\n",
    "        rate (float): The arrival rate (lambda).\n",
    "        time_period (float): The total time to simulate for.\n",
    "        \n",
    "    Returns:\n",
    "        tuple: A tuple containing (event_times, event_counts).\n",
    "    \"\"\"\n",
    "    event_times = [0]\n",
    "    current_time = 0\n",
    "    \n",
    "    while current_time < time_period:\n",
    "        # Generate the next inter-arrival time from an Exponential distribution\n",
    "        # The scale parameter for numpy's exponential is 1/lambda.\n",
    "        inter_arrival_time = np.random.exponential(scale=1.0/rate)\n",
    "        \n",
    "        current_time += inter_arrival_time\n",
    "        \n",
    "        if current_time < time_period:\n",
    "            event_times.append(current_time)\n",
    "            \n",
    "    # The count of events at each event time\n",
    "    event_counts = np.arange(len(event_times))\n",
    "    \n",
    "    return event_times, event_counts\n",
    "\n",
    "# --- Simulation Parameters ---\n",
    "LAMBDA = 5      # Rate: 5 calls per hour\n",
    "T_PERIOD = 2    # Period: 2 hours\n",
    "\n",
    "# Run one simulation\n",
    "times, counts = simulate_poisson_process(LAMBDA, T_PERIOD)\n",
    "\n",
    "# Plot the Poisson process path\n",
    "plt.figure(figsize=(12, 6))\n",
    "plt.step(times, counts, where='post')\n",
    "plt.title(f'A Single Realization of a Poisson Process ($\\lambda={LAMBDA}$)')\n",
    "plt.xlabel('Time (Hours)')\n",
    "plt.ylabel('Number of Events N(t)')\n",
    "plt.xlim(0, T_PERIOD)\n",
    "plt.grid(True)\n",
    "plt.show()\n",
    "\n",
    "print(f\"Total events in {T_PERIOD} hours: {len(counts)-1}\")"
   ]
  },
  {
   "cell_type": "markdown",
   "metadata": {},
   "source": [
    "The plot shows a typical path of a counting process. It's a step function that jumps up by 1 at each random event time."
   ]
  },
  {
   "cell_type": "markdown",
   "metadata": {},
   "source": [
    "### Part B: Verifying the Distribution of N(t)\n",
    "\n",
    "The theory says that the number of events in our 2-hour window, \\(N(2)\\), should follow a Poisson distribution with mean \\(\\lambda t = 5 \\times 2 = 10\\).\n",
    "\n",
    "Let's test this by running many simulations and plotting a histogram of the total number of events."
   ]
  },
  {
   "cell_type": "code",
   "execution_count": null,
   "metadata": {},
   "outputs": [],
   "source": [
    "N_SIMS = 10000\n",
    "total_events_in_sims = []\n",
    "\n",
    "for _ in range(N_SIMS):\n",
    "    times, counts = simulate_poisson_process(LAMBDA, T_PERIOD)\n",
    "    total_events_in_sims.append(len(counts) - 1)\n",
    "\n",
    "# Plot the histogram of the results\n",
    "plt.figure(figsize=(12, 6))\n",
    "max_events = max(total_events_in_sims)\n",
    "bins = np.arange(0, max_events + 2) - 0.5\n",
    "plt.hist(total_events_in_sims, bins=bins, density=True, alpha=0.7, label='Simulation Results')\n",
    "\n",
    "# Overlay the theoretical Poisson PMF\n",
    "mu = LAMBDA * T_PERIOD\n",
    "x = np.arange(0, max_events + 1)\n",
    "pmf = poisson.pmf(x, mu)\n",
    "plt.plot(x, pmf, 'ro-', label=f'Theoretical Poisson PMF ($\\mu={mu}$)')\n",
    "\n",
    "plt.title(f'Distribution of N({T_PERIOD}) over {N_SIMS} Simulations')\n",
    "plt.xlabel('Total Number of Events in 2 Hours')\n",
    "plt.ylabel('Probability')\n",
    "plt.legend()\n",
    "plt.show()\n",
    "\n",
    "print(f\"Average number of events from simulation: {np.mean(total_events_in_sims):.4f}\")\n",
    "print(f\"Theoretical average number of events: {mu}\")"
   ]
  },
  {
   "cell_type": "markdown",
   "metadata": {},
   "source": [
    "**Interpretation:**\n",
    "\n",
    "The results are a perfect match! The histogram of event counts from our simulation aligns beautifully with the theoretical Poisson probability mass function. The simulated average number of events is also extremely close to the theoretical mean of 10. This confirms our understanding and simulation method."
   ]
  },
  {
   "cell_type": "markdown",
   "metadata": {},
   "source": [
    "## Summary & Next Steps\n",
    "\n",
    "In this notebook, we've explored the Poisson process:\n",
    "1.  It's a **continuous-time counting process** for random, independent events occurring at a constant average rate \\(\\lambda\\).\n",
    "2.  The number of events in an interval of length \\(t\\) follows a **Poisson(\\(\\lambda t\\)) distribution**.\n",
    "3.  The time *between* consecutive events follows an **Exponential(\\(\\lambda\\)) distribution**.\n",
    "4.  We can simulate the process by generating these exponential inter-arrival times.\n",
    "\n",
    "The Poisson process is a cornerstone of stochastic modeling, especially in queuing theory and reliability engineering. \n",
    "\n",
    "In **Week 7**, we will return to discrete-time processes but with a focus on time series data, introducing **Linear Systems Theory and Autoregressive (AR) Models**."
   ]
  }
 ],
 "metadata": {
  "kernelspec": {
   "display_name": "Python 3",
   "language": "python",
   "name": "python3"
  },
  "language_info": {
   "codemirror_mode": {
    "name": "ipython",
    "version": 3
   },
   "file_extension": ".py",
   "mimetype": "text/x-python",
   "name": "python",
   "nbconvert_exporter": "python",
   "pygments_lexer": "ipython3",
   "version": "3.9.7"
  }
 },
 "nbformat": 4,
 "nbformat_minor": 4
}