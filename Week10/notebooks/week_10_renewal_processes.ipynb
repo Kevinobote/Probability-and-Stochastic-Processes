{
 "cells": [
  {
   "cell_type": "markdown",
   "metadata": {},
   "source": [
    "# Weeks 10-11: Renewal Processes\n",
    "\n",
    "**Objective:** Understand renewal processes as a generalization of the Poisson process, learn the key definitions, and simulate a process to verify its long-run average behavior."
   ]
  },
  {
   "cell_type": "markdown",
   "metadata": {},
   "source": [
    "## Step 1: Build Intuition\n",
    "\n",
    "Remember the Poisson process, which modeled events like calls arriving at a call center? A key assumption was that the time between calls followed an **Exponential distribution**. This implies the process is \"memoryless.\"\n",
    "\n",
    "But what if the time between events isn't memoryless? Think of replacing a machine part. The time until it fails (and is \"renewed\") might not be exponential. A new part is less likely to fail than an old one. Or perhaps failures tend to happen around a specific average lifetime, but with some variability.\n",
    "\n",
    "A **renewal process** is a counting process that handles this. It's like a Poisson process, but the time between events (the \"lifetimes\") can follow **any** probability distribution, as long as they are independent and identically distributed (IID)."
   ]
  },
  {
   "cell_type": "markdown",
   "metadata": {},
   "source": [
    "## Step 2: Understand the Core Idea\n",
    "\n",
    "A renewal process, \\(N(t)\\), counts the number of \"renewals\" or events up to time \\(t\\). It is defined by one simple thing:\n",
    "\n",
    "1.  **The Inter-arrival Times:** Let \\(T_1, T_2, T_3, ...\\) be the times between consecutive events. In a renewal process, these \\(T_i\\) are assumed to be **independent and identically distributed (IID)** positive random variables.\n",
    "\n",
    "That's it! The distribution of these \\(T_i\\) can be Exponential (which makes it a Poisson process), Gamma, Weibull, Uniform, or any other valid distribution for positive values.\n",
    "\n",
    "- **Arrival Times:** The time of the \\(n\\)-th event is the sum of the first \\(n\\) inter-arrival times: \\(S_n = T_1 + T_2 + ... + T_n\\).\n",
    "- **Counting Process:** The number of events by time \\(t\\) is \\(N(t) = \\max\\{n: S_n \\le t\\}\\)."
   ]
  },
  {
   "cell_type": "markdown",
   "metadata": {},
   "source": [
    "## Step 3: Learn the Definitions and Formulas\n",
    "\n",
    "**Definition: Renewal Process**\n",
    "A counting process \\({N(t), t \\ge 0}\\) is a renewal process if the inter-arrival times \\(T_1, T_2, ...\\) are independent and identically distributed positive random variables.\n",
    "\n",
    "--- \n",
    "\n",
    "**Definition: Renewal Function**\n",
    "The expected number of renewals by time \\(t\\) is called the renewal function, \\(m(t)\\).\n",
    "$$ m(t) = E[N(t)] $$\n",
    "Unlike the Poisson process where \\(E[N(t)] = \\lambda t\\), the renewal function for a general renewal process is often difficult to calculate exactly.\n",
    "\n",
    "--- \n",
    "\n",
    "**Key Result: Elementary Renewal Theorem**\n",
    "This theorem describes the long-run average rate of renewals. Let \\(\\mu = E[T_i]\\) be the mean inter-arrival time. Then, as time goes to infinity, the average number of renewals per unit of time approaches \\(1/\\mu\\).\n",
    "$$ \\lim_{t \\to \\infty} \\frac{E[N(t)]}{t} = \\frac{1}{\\mu} $$\n",
    "This is highly intuitive: if a light bulb lasts 1000 hours on average (\\(\\mu=1000\\)), then in the long run, you'd expect to replace it at a rate of 1/1000 bulbs per hour."
   ]
  },
  {
   "cell_type": "markdown",
   "metadata": {},
   "source": [
    "## Step 4: Apply and Practice\n",
    "\n",
    "Let's simulate a renewal process where the inter-arrival times are **not** exponential. A **Gamma distribution** is a good choice because it's flexible and always positive. The Exponential distribution is just a special case of the Gamma distribution.\n",
    "\n",
    "**Scenario:** We'll model the failure of a component. The time to failure (inter-arrival time) follows a Gamma distribution with a known shape and scale. We want to simulate the process and verify the Elementary Renewal Theorem."
   ]
  },
  {
   "cell_type": "code",
   "execution_count": null,
   "metadata": {},
   "outputs": [],
   "source": [
    "import numpy as np\n",
    "import matplotlib.pyplot as plt\n",
    "\n",
    "plt.style.use('seaborn-v0_8-whitegrid')"
   ]
  },
  {
   "cell_type": "markdown",
   "metadata": {},
   "source": [
    "### Part A: Simulating a Renewal Process Path\n",
    "\n",
    "The simulation logic is identical to the Poisson process, but we just swap the random number generator."
   ]
  },
  {
   "cell_type": "code",
   "execution_count": null,
   "metadata": {},
   "outputs": [],
   "source": [
    "def simulate_renewal_process(dist_params, time_period, num_steps=None):\n",
    "    \"\"\"\n",
    "    Simulates a single path of a renewal process with Gamma-distributed inter-arrival times.\n",
    "    \n",
    "    Args:\n",
    "        dist_params (dict): Dictionary with 'shape' and 'scale' for the Gamma distribution.\n",
    "        time_period (float): The total time to simulate for.\n",
    "        num_steps (int, optional): If provided, returns the process state at these steps.\n",
    "        \n",
    "    Returns:\n",
    "        tuple: (event_times, event_counts) or (time_axis, path_at_steps).\n",
    "    \"\"\"\n",
    "    event_times = [0]\n",
    "    current_time = 0\n",
    "    \n",
    "    while current_time < time_period:\n",
    "        # Generate the next inter-arrival time from a Gamma distribution\n",
    "        inter_arrival_time = np.random.gamma(shape=dist_params['shape'], scale=dist_params['scale'])\n",
    "        current_time += inter_arrival_time\n",
    "        \n",
    "        if current_time < time_period:\n",
    "            event_times.append(current_time)\n",
    "            \n",
    "    event_counts = np.arange(len(event_times))\n",
    "    \n",
    "    if num_steps is None:\n",
    "        return event_times, event_counts\n",
    "    else:\n",
    "        # If we need the process value at specific times for averaging\n",
    "        time_axis = np.linspace(0, time_period, num_steps)\n",
    "        path_at_steps = np.zeros(num_steps)\n",
    "        for i, t in enumerate(time_axis):\n",
    "            path_at_steps[i] = np.sum(np.array(event_times) <= t) - 1\n",
    "        return time_axis, path_at_steps\n",
    "\n",
    "# --- Simulation Parameters ---\n",
    "# Gamma distribution for inter-arrival times\n",
    "GAMMA_SHAPE = 2.0\n",
    "GAMMA_SCALE = 1.5\n",
    "T_PERIOD = 100\n",
    "\n",
    "# The mean of a Gamma(shape, scale) is shape * scale\n",
    "MU = GAMMA_SHAPE * GAMMA_SCALE\n",
    "\n",
    "print(f\"Simulating with Gamma inter-arrival times (shape={GAMMA_SHAPE}, scale={GAMMA_SCALE})\")\n",
    "print(f\"Theoretical mean inter-arrival time (mu): {MU:.2f}\")\n",
    "\n",
    "# Run one simulation\n",
    "times, counts = simulate_renewal_process({'shape': GAMMA_SHAPE, 'scale': GAMMA_SCALE}, T_PERIOD)\n",
    "\n",
    "# Plot the renewal process path\n",
    "plt.figure(figsize=(12, 6))\n",
    "plt.step(times, counts, where='post')\n",
    "plt.title('A Single Realization of a Renewal Process (Gamma Inter-arrivals)')\n",
    "plt.xlabel('Time')\n",
    "plt.ylabel('Number of Renewals N(t)')\n",
    "plt.xlim(0, T_PERIOD)\n",
    "plt.grid(True)\n",
    "plt.show()"
   ]
  },
  {
   "cell_type": "markdown",
   "metadata": {},
   "source": [
    "### Part B: Verifying the Elementary Renewal Theorem\n",
    "\n",
    "The theory says that \\(E[N(t)]/t\\) should approach \\(1/\\mu\\) as \\(t\\) gets large. Let's test this by running many simulations and plotting the average of \\(N(t)/t\\)."
   ]
  },
  {
   "cell_type": "code",
   "execution_count": null,
   "metadata": {},
   "outputs": [],
   "source": [
    "N_SIMS = 2000\n",
    "N_STEPS = 200 # Number of points to evaluate the process at\n",
    "all_paths = np.zeros((N_SIMS, N_STEPS))\n",
    "\n",
    "for i in range(N_SIMS):\n",
    "    # We need the process evaluated at the same time points for each simulation\n",
    "    t_axis, path = simulate_renewal_process(\n",
    "        {'shape': GAMMA_SHAPE, 'scale': GAMMA_SCALE}, \n",
    "        T_PERIOD, \n",
    "        num_steps=N_STEPS\n",
    "    )\n",
    "    all_paths[i, :] = path\n",
    "\n",
    "# Calculate the average N(t) across all simulations\n",
    "m_t = np.mean(all_paths, axis=0)\n",
    "\n",
    "# Calculate m(t) / t\n",
    "# We avoid division by zero at t=0 by starting from the second element\n",
    "avg_rate = m_t[1:] / t_axis[1:]\n",
    "\n",
    "# Plot the result\n",
    "plt.figure(figsize=(12, 6))\n",
    "plt.plot(t_axis[1:], avg_rate, label='Simulated E[N(t)] / t')\n",
    "plt.axhline(1/MU, color='red', linestyle='--', label=f'Theoretical Limit (1/mu = {1/MU:.4f})')\n",
    "plt.title('Verifying the Elementary Renewal Theorem')\n",
    "plt.xlabel('Time (t)')\n",
    "plt.ylabel('Average Rate of Renewals')\n",
    "plt.legend()\n",
    "plt.ylim(bottom=0)\n",
    "plt.show()"
   ]
  },
  {
   "cell_type": "markdown",
   "metadata": {},
   "source": [
    "**Interpretation:**\n",
    "\n",
    "The plot clearly shows that the simulated average rate of renewals, \\(E[N(t)]/t\\), converges to the theoretical long-run rate, \\(1/\\mu\\), as \\(t\\) increases. This provides strong empirical evidence for the Elementary Renewal Theorem."
   ]
  },
  {
   "cell_type": "markdown",
   "metadata": {},
   "source": [
    "## Summary & Next Steps\n",
    "\n",
    "In this notebook, we've generalized the Poisson process to the more flexible Renewal Process:\n",
    "1.  A **renewal process** is a counting process where the times between events are IID random variables from *any* positive distribution.\n",
    "2.  The Poisson process is a special case where the inter-arrival distribution is Exponential.\n",
    "3.  The **Elementary Renewal Theorem** provides a powerful result about the long-run average rate of events, stating it converges to the reciprocal of the mean inter-arrival time (\\(1/\\mu\\)).\n",
    "\n",
    "Renewal theory is the foundation for analyzing more complex systems, especially in reliability and queuing theory.\n",
    "\n",
    "In **Weeks 12-13**, we will apply these ideas to study **Queuing Models**, which are essential for analyzing waiting lines in systems like call centers, banks, and computer networks."
   ]
  }
 ],
 "metadata": {
  "kernelspec": {
   "display_name": "Python 3",
   "language": "python",
   "name": "python3"
  },
  "language_info": {
   "codemirror_mode": {
    "name": "ipython",
    "version": 3
   },
   "file_extension": ".py",
   "mimetype": "text/x-python",
   "name": "python",
   "nbconvert_exporter": "python",
   "pygments_lexer": "ipython3",
   "version": "3.9.7"
  }
 },
 "nbformat": 4,
 "nbformat_minor": 4
}