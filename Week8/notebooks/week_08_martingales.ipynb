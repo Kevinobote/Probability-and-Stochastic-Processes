{
 "cells": [
  {
   "cell_type": "markdown",
   "metadata": {},
   "source": [
    "# Weeks 8-9: Martingale Theory\n",
    "\n",
    "**Objective:** Understand the definition of a martingale as a model for a \"fair game,\" learn about filtrations (information sets), and verify the martingale property for common stochastic processes."
   ]
  },
  {
   "cell_type": "markdown",
   "metadata": {},
   "source": [
    "## Step 1: Build Intuition\n",
    "\n",
    "Imagine a gambler playing a series of games. The game is **fair** if, knowing everything that has happened up to the present (all past wins and losses), their expected fortune after the next game is exactly equal to their current fortune. They don't expect to win or lose money on the next round.\n",
    "\n",
    "A **martingale** is the mathematical formalization of this fair game. \n",
    "\n",
    "- If the game is unfavorable (they expect to lose), it's a **supermartingale**.\n",
    "- If the game is favorable (they expect to win), it's a **submartingale**.\n",
    "\n",
    "This concept is central to financial mathematics for modeling stock prices under the assumption of no arbitrage (no free money)."
   ]
  },
  {
   "cell_type": "markdown",
   "metadata": {},
   "source": [
    "## Step 2: Understand the Core Idea\n",
    "\n",
    "The core idea is **conditional expectation**. We are looking at the expected value of the process at the next time step, *given all the information we have up to the current time*.\n",
    "\n",
    "1.  **The Process (\\(X_n\\)):** This is the gambler's fortune at time \\(n\\).\n",
    "2.  **The Information (\\(\\mathcal{F}_n\\)):** This is the history of the process up to time \\(n\\). It's called a **filtration**. Think of it as the set of all outcomes of \\(X_0, X_1, ..., X_n\\).\n",
    "3.  **The Martingale Property:** The expected value of \\(X_{n+1}\\), given the information \\(\\mathcal{F}_n\\), is simply \\(X_n\\).\n",
    "\n",
    "In simple terms: `E[Future | Present] = Present`."
   ]
  },
  {
   "cell_type": "markdown",
   "metadata": {},
   "source": [
    "## Step 3: Learn the Definitions and Formulas\n",
    "\n",
    "**Definition: Filtration**\n",
    "A filtration \\({\\mathcal{F}_n, n \\ge 0}\\) is an increasing sequence of information sets (\\(\\sigma\\)-algebras), where \\(\\mathcal{F}_n \\subseteq \\mathcal{F}_{n+1}\\) for all \\(n\\). \\(\\mathcal{F}_n\\) represents the information available at time \\(n\\).\n",
    "\n",
    "**Definition: Martingale**\n",
    "A discrete-time stochastic process \\({X_n, n \\ge 0}\\) is a **martingale** with respect to a filtration \\(\\mathcal{F}_n\\) if it satisfies:\n",
    "1.  \\(X_n\\) is adapted to \\(\\mathcal{F}_n\\) (i.e., \\(X_n\\) is known given the information at time \\(n\\)).\n",
    "2.  \\(E[|X_n|] < \\infty\\) for all \\(n\\) (the expectation is well-defined).\n",
    "3.  \\(E[X_{n+1} | \\mathcal{F}_n] = X_n\\).\n",
    "\n",
    "**Submartingale and Supermartingale**\n",
    "- It's a **submartingale** (favorable game) if \\(E[X_{n+1} | \\mathcal{F}_n] \\ge X_n\\).\n",
    "- It's a **supermartingale** (unfavorable game) if \\(E[X_{n+1} | \\mathcal{F}_n] \\le X_n\\)."
   ]
  },
  {
   "cell_type": "markdown",
   "metadata": {},
   "source": [
    "## Step 4: Apply and Practice\n",
    "\n",
    "Let's test some processes we already know to see if they are martingales."
   ]
  },
  {
   "cell_type": "code",
   "execution_count": null,
   "metadata": {},
   "outputs": [],
   "source": [
    "import numpy as np\n",
    "import matplotlib.pyplot as plt\n",
    "\n",
    "plt.style.use('seaborn-v0_8-whitegrid')"
   ]
  },
  {
   "cell_type": "markdown",
   "metadata": {},
   "source": [
    "### Example 1: The Simple Symmetric Random Walk\n",
    "\n",
    "Let \\(S_n = \\sum_{i=1}^n X_i\\), where \\(X_i\\) are i.i.d. with \\(P(X_i=1) = P(X_i=-1) = 0.5\\). Is \\(S_n\\) a martingale?\n",
    "\n",
    "**Theoretical Check:**\n",
    "We need to check \\(E[S_{n+1} | \\mathcal{F}_n] = S_n\\).\n",
    "\\(E[S_{n+1} | \\mathcal{F}_n] = E[S_n + X_{n+1} | \\mathcal{F}_n]\\)\n",
    "By linearity of expectation: \\(= E[S_n | \\mathcal{F}_n] + E[X_{n+1} | \\mathcal{F}_n]\\)\n",
    "- Since \\(S_n\\) is known at time \\(n\\), \\(E[S_n | \\mathcal{F}_n] = S_n\\).\n",
    "- Since \\(X_{n+1}\\) is independent of the past, \\(E[X_{n+1} | \\mathcal{F}_n] = E[X_{n+1}] = (1)(0.5) + (-1)(0.5) = 0\\).\n",
    "\n",
    "So, \\(E[S_{n+1} | \\mathcal{F}_n] = S_n + 0 = S_n\\). **Yes, it is a martingale.**"
   ]
  },
  {
   "cell_type": "markdown",
   "metadata": {},
   "source": [
    "### Example 2: A Biased Random Walk (Non-Martingale)\n",
    "\n",
    "Let \\(S_n = \\sum_{i=1}^n X_i\\), but now with \\(P(X_i=1) = p = 0.6\\) and \\(P(X_i=-1) = 1-p = 0.4\\). Is this a martingale?\n",
    "\n",
    "**Theoretical Check:**\n",
    "The logic is the same, but the expectation of the step changes:\n",
    "\\(E[X_{n+1}] = (1)(0.6) + (-1)(0.4) = 0.2\\).\n",
    "So, \\(E[S_{n+1} | \\mathcal{F}_n] = S_n + 0.2\\).\n",
    "\n",
    "Since \\(E[S_{n+1} | \\mathcal{F}_n] > S_n\\), this process is **not a martingale**. It is a **submartingale** (a favorable game)."
   ]
  },
  {
   "cell_type": "markdown",
   "metadata": {},
   "source": [
    "### Example 3: A More Interesting Martingale\n",
    "\n",
    "Let's go back to the **simple symmetric random walk** (p=0.5). Let a new process be \\(Y_n = S_n^2 - n\\). Is \\(Y_n\\) a martingale?\n",
    "\n",
    "**Theoretical Check:**\n",
    "We check \\(E[Y_{n+1} | \\mathcal{F}_n]\\):\n",
    "\\(E[S_{n+1}^2 - (n+1) | \\mathcal{F}_n] = E[(S_n + X_{n+1})^2 - (n+1) | \\mathcal{F}_n]\\)\n",
    "\\(= E[S_n^2 + 2S_n X_{n+1} + X_{n+1}^2 - n - 1 | \\mathcal{F}_n]\\)\n",
    "\\(= E[S_n^2|\\mathcal{F}_n] + 2E[S_n X_{n+1}|\\mathcal{F}_n] + E[X_{n+1}^2|\\mathcal{F}_n] - E[n+1|\\mathcal{F}_n]\\)\n",
    "Using what we know:\n",
    "- \\(E[S_n^2|\\mathcal{F}_n] = S_n^2\\) (known at time n)\n",
    "- \\(2E[S_n X_{n+1}|\\mathcal{F}_n] = 2S_n E[X_{n+1}|\\mathcal{F}_n] = 2S_n(0) = 0\\)\n",
    "- \\(E[X_{n+1}^2|\\mathcal{F}_n] = E[X_{n+1}^2] = (1)^2(0.5) + (-1)^2(0.5) = 1\\)\n",
    "- \\(E[n+1|\\mathcal{F}_n] = n+1\\)\n",
    "\n",
    "Putting it together: \\(E[Y_{n+1} | \\mathcal{F}_n] = S_n^2 + 0 + 1 - (n+1) = S_n^2 - n = Y_n\\).\n",
    "\n",
    "**Yes, \\(Y_n = S_n^2 - n\\) is also a martingale!** This is a very famous result. Let's verify it with a simulation."
   ]
  },
  {
   "cell_type": "code",
   "execution_count": null,
   "metadata": {},
   "outputs": [],
   "source": [
    "def simulate_martingale_check(num_steps, num_sims):\n",
    "    \"\"\"\n",
    "    Simulates multiple paths of a symmetric random walk and the process Y_n = S_n^2 - n.\n",
    "    Returns the paths for S_n and Y_n.\n",
    "    \"\"\"\n",
    "    s_paths = np.zeros((num_sims, num_steps + 1))\n",
    "    y_paths = np.zeros((num_sims, num_steps + 1))\n",
    "    \n",
    "    for i in range(num_sims):\n",
    "        # Generate steps for one simulation\n",
    "        steps = np.random.choice([-1, 1], size=num_steps)\n",
    "        # Calculate the random walk path S_n\n",
    "        s_path = np.concatenate(([0], steps)).cumsum()\n",
    "        s_paths[i, :] = s_path\n",
    "        \n",
    "        # Calculate the Y_n = S_n^2 - n path\n",
    "        n_values = np.arange(num_steps + 1)\n",
    "        y_path = s_path**2 - n_values\n",
    "        y_paths[i, :] = y_path\n",
    "        \n",
    "    return s_paths, y_paths\n",
    "\n",
    "# --- Simulation Parameters ---\n",
    "N_STEPS = 100\n",
    "N_SIMS = 1000\n",
    "\n",
    "s_paths, y_paths = simulate_martingale_check(N_STEPS, N_SIMS)\n",
    "\n",
    "# Calculate the average path across all simulations\n",
    "avg_s_path = np.mean(s_paths, axis=0)\n",
    "avg_y_path = np.mean(y_paths, axis=0)\n",
    "\n",
    "# --- Plotting ---\n",
    "fig, (ax1, ax2) = plt.subplots(2, 1, figsize=(14, 12), sharex=True)\n",
    "\n",
    "# Plot a few sample paths for S_n\n",
    "for i in range(5):\n",
    "    ax1.plot(s_paths[i, :], alpha=0.5, label=f'Sample Path {i+1}' if i < 1 else None)\n",
    "ax1.plot(avg_s_path, color='black', linewidth=2, label=f'Average of {N_SIMS} paths')\n",
    "ax1.set_title('Process $S_n$ (A Martingale)')\n",
    "ax1.set_ylabel('Value')\n",
    "ax1.legend()\n",
    "ax1.grid(True)\n",
    "\n",
    "# Plot a few sample paths for Y_n = S_n^2 - n\n",
    "for i in range(5):\n",
    "    ax2.plot(y_paths[i, :], alpha=0.5, label=f'Sample Path {i+1}' if i < 1 else None)\n",
    "ax2.plot(avg_y_path, color='black', linewidth=2, label=f'Average of {N_SIMS} paths')\n",
    "ax2.set_title('Process $Y_n = S_n^2 - n$ (Also a Martingale)')\n",
    "ax2.set_xlabel('Time Step (n)')\n",
    "ax2.set_ylabel('Value')\n",
    "ax2.legend()\n",
    "ax2.grid(True)\n",
    "\n",
    "plt.suptitle('Verifying the Martingale Property via Simulation', fontsize=16)\n",
    "plt.tight_layout(rect=[0, 0, 1, 0.96])\n",
    "plt.show()"
   ]
  },
  {
   "cell_type": "markdown",
   "metadata": {},
   "source": [
    "**Interpretation of the Plots:**\n",
    "\n",
    "For both processes, the individual sample paths (in color) wander all over the place. However, the average of thousands of paths (the black line) stays flat at 0. This is the martingale property in action! The expected value of the process at any future time is its starting value (which was 0 for both \\(S_0\\) and \\(Y_0\\))."
   ]
  },
  {
   "cell_type": "markdown",
   "metadata": {},
   "source": [
    "## Summary & Next Steps\n",
    "\n",
    "In this notebook, we've introduced the formal concept of a martingale:\n",
    "1.  A **martingale** models a fair game, where the expected future value, given the present, is the present value.\n",
    "2.  The concept relies on **conditional expectation** and the idea of a **filtration** (an evolving information set).\n",
    "3.  A simple symmetric random walk \\(S_n\\) is a martingale.\n",
    "4.  More complex processes, like \\(Y_n = S_n^2 - n\\), can also be martingales.\n",
    "\n",
    "Martingales are a deep and rich topic. They are the discrete-time foundation for understanding stochastic calculus.\n",
    "\n",
    "In **Week 9**, we will explore the continuous-time analogue of the random walk: **Brownian Motion**, which is also a martingale and is arguably the most important stochastic process in finance and physics."
   ]
  }
 ],
 "metadata": {
  "kernelspec": {
   "display_name": "Python 3",
   "language": "python",
   "name": "python3"
  },
  "language_info": {
   "codemirror_mode": {
    "name": "ipython",
    "version": 3
   },
   "file_extension": ".py",
   "mimetype": "text/x-python",
   "name": "python",
   "nbconvert_exporter": "python",
   "pygments_lexer": "ipython3",
   "version": "3.9.7"
  }
 },
 "nbformat": 4,
 "nbformat_minor": 4
}