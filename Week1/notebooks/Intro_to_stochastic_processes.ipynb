{
 "cells": [
  {
   "cell_type": "markdown",
   "metadata": {},
   "source": [
    "# Week 1: Introduction to Stochastic Processes\n",
    "\n",
    "**Objective:** Understand the fundamental definition of a stochastic process and learn to classify processes based on their time and state domains."
   ]
  },
  {
   "cell_type": "markdown",
   "metadata": {},
   "source": [
    "## Step 1: Build Intuition\n",
    "\n",
    "Let's start with a simple, real-world analogy. Think about the **price of a stock** over a year. \n",
    "\n",
    "- We can't predict its exact value on any future day; there's an element of randomness.\n",
    "- However, the price evolves over time, and we can observe it at different points (e.g., daily at market close).\n",
    "\n",
    "A **stochastic process** is simply a mathematical way to describe a system that evolves randomly over time. It's a collection of random variables, where each variable represents the state of the system at a specific point in time.\n",
    "\n",
    "Other examples include:\n",
    "- The number of customers arriving at a store each hour.\n",
    "- The temperature in a room, measured continuously.\n",
    "- The path of a pollen grain suspended in water (Brownian motion)."
   ]
  },
  {
   "cell_type": "markdown",
   "metadata": {},
   "source": [
    "## Step 2: Understand the Core Idea\n",
    "\n",
    "To properly describe a stochastic process, we need to define two key components:\n",
    "\n",
    "1.  **The Index Set (Time):** This describes *when* we observe the process.\n",
    "    - **Discrete-Time:** Time moves in distinct, separate steps. We observe the process at specific moments, like `t = 0, 1, 2, 3, ...`. Think of the daily closing price of a stock.\n",
    "    - **Continuous-Time:** Time flows smoothly. We can observe the process at *any* instant within an interval, like `t` in `[0, ∞)`. Think of the real-time temperature of a room.\n",
    "\n",
    "2.  **The State Space:** This describes *what values* the process can take at each point in time.\n",
    "    - **Discrete State Space:** The possible values are finite or countably infinite. For example, the outcome of a dice roll can only be `{1, 2, 3, 4, 5, 6}`.\n",
    "    - **Continuous State Space:** The possible values can be any number within a given range. For example, temperature can be `21.5°C`, `21.51°C`, and so on."
   ]
  },
  {
   "cell_type": "markdown",
   "metadata": {},
   "source": [
    "## Step 3: Learn the Definitions and Formulas\n",
    "\n",
    "Now, let's connect our intuition to the formal mathematics.\n",
    "\n",
    "**Definition: Stochastic Process**\n",
    "A stochastic process is a family of random variables `{X(t), t ∈ T}` defined on a common probability space, where:\n",
    "- `X(t)` is the random variable representing the state of the process at time `t`.\n",
    "- `T` is the **index set** (the set of all time points).\n",
    "\n",
    "--- \n",
    "\n",
    "### Classification of Stochastic Processes\n",
    "\n",
    "We can classify any stochastic process into one of four categories based on its index set and state space.\n",
    "\n",
    "|                    | **Discrete State Space**                                     | **Continuous State Space**                                     |\n",
    "| ------------------ | ------------------------------------------------------------ | -------------------------------------------------------------- |\n",
    "| **Discrete-Time**  | The number of people in a queue at the end of each minute.   | The daily closing price of a stock.                            |\n",
    "| **Continuous-Time**| The number of cars that have passed a point on a highway.    | The temperature of a liquid as it cools.                       |"
   ]
  },
  {
   "cell_type": "markdown",
   "metadata": {},
   "source": [
    "## Step 4: Apply and Practice\n",
    "\n",
    "Let's use Python to simulate and visualize one discrete-time and one continuous-time process. This helps solidify the concepts.\n",
    "\n",
    "First, let's import the necessary libraries."
   ]
  },
  {
   "cell_type": "code",
   "execution_count": null,
   "metadata": {},
   "outputs": [],
   "source": [
    "import numpy as np\n",
    "import matplotlib.pyplot as plt\n",
    "\n",
    "# Set a style for plots for better visualization\n",
    "plt.style.use('seaborn-v0_8-whitegrid')"
   ]
  },
  {
   "cell_type": "markdown",
   "metadata": {},
   "source": [
    "### Example 1: A Discrete-Time Stochastic Process\n",
    "\n",
    "Let's simulate a simple **random walk**. This is a classic discrete-time process. Imagine a person starting at position 0. At each time step (e.g., every second), they take a step of `+1` or `-1` with equal probability.\n",
    "\n",
    "- **Index Set (Time):** Discrete `{0, 1, 2, ..., 100}`\n",
    "- **State Space:** Discrete `{..., -2, -1, 0, 1, 2, ...}`"
   ]
  },
  {
   "cell_type": "code",
   "execution_count": null,
   "metadata": {},
   "outputs": [],
   "source": [
    "def simulate_random_walk(num_steps, start_pos=0):\n",
    "    \"\"\"Simulates a 1D random walk.\"\"\"\n",
    "    # Generate random steps: +1 or -1\n",
    "    # np.random.choice is great for discrete state spaces\n",
    "    steps = np.random.choice([-1, 1], size=num_steps)\n",
    "    \n",
    "    # Calculate the position at each time step by taking the cumulative sum\n",
    "    # The first position is the starting position\n",
    "    positions = np.concatenate(([start_pos], steps)).cumsum()\n",
    "    return positions\n",
    "\n",
    "# Simulation parameters\n",
    "N_STEPS = 100\n",
    "\n",
    "# Run the simulation\n",
    "random_walk_path = simulate_random_walk(N_STEPS)\n",
    "time_steps = np.arange(N_STEPS + 1)\n",
    "\n",
    "# Plot the results\n",
    "plt.figure(figsize=(12, 6))\n",
    "# We use plt.step() to emphasize the discrete nature of time\n",
    "plt.step(time_steps, random_walk_path, where='mid')\n",
    "plt.title('Simulation of a Discrete-Time Process: Random Walk')\n",
    "plt.xlabel('Time Steps (Discrete)')\n",
    "plt.ylabel('Position (Discrete State)')\n",
    "plt.axhline(0, color='red', linestyle='--', label='Starting Position')\n",
    "plt.legend()\n",
    "plt.show()"
   ]
  },
  {
   "cell_type": "markdown",
   "metadata": {},
   "source": [
    "### Example 2: A Continuous-Time Stochastic Process\n",
    "\n",
    "We can't truly model a continuous process on a computer, but we can approximate it by taking very frequent samples. Let's simulate the **temperature in a room** over 24 hours. We'll model it as a daily sinusoidal cycle (colder at night, warmer during the day) plus some random noise.\n",
    "\n",
    "- **Index Set (Time):** Continuous `[0, 24]` hours\n",
    "- **State Space:** Continuous (e.g., any temperature value in a range)"
   ]
  },
  {
   "cell_type": "code",
   "execution_count": null,
   "metadata": {},
   "outputs": [],
   "source": [
    "def simulate_temperature(total_hours, samples_per_hour):\n",
    "    \"\"\"Simulates room temperature over a period with a daily cycle and noise.\"\"\"\n",
    "    # Create a fine-grained time axis to approximate continuity\n",
    "    num_samples = total_hours * samples_per_hour\n",
    "    time = np.linspace(0, total_hours, num_samples)\n",
    "    \n",
    "    # Create a base temperature cycle (sine wave)\n",
    "    # Lowest at t=6 (6 AM), highest at t=18 (6 PM)\n",
    "    avg_temp = 20  # Average temperature in Celsius\n",
    "    amplitude = 4    # Fluctuation\n",
    "    base_temp = avg_temp - amplitude * np.cos(2 * np.pi * (time - 6) / 24)\n",
    "    \n",
    "    # Add some random noise to make it a stochastic process\n",
    "    # np.random.randn is great for continuous state spaces\n",
    "    noise = np.random.randn(num_samples) * 0.5  # Small random fluctuations\n",
    "    \n",
    "    temperature = base_temp + noise\n",
    "    return time, temperature\n",
    "\n",
    "# Simulation parameters\n",
    "TOTAL_HOURS = 24\n",
    "SAMPLES_PER_HOUR = 60 # Sample every minute\n",
    "\n",
    "# Run the simulation\n",
    "time_continuous, temp_continuous = simulate_temperature(TOTAL_HOURS, SAMPLES_PER_HOUR)\n",
    "\n",
    "# Plot the results\n",
    "plt.figure(figsize=(12, 6))\n",
    "# We use plt.plot() to show the smooth, continuous nature of the process\n",
    "plt.plot(time_continuous, temp_continuous)\n",
    "plt.title('Simulation of a Continuous-Time Process: Room Temperature')\n",
    "plt.xlabel('Time (Continuous, in Hours)')\n",
    "plt.ylabel('Temperature (°C, Continuous State)')\n",
    "plt.xlim(0, TOTAL_HOURS)\n",
    "plt.show()"
   ]
  },
  {
   "cell_type": "markdown",
   "metadata": {},
   "source": [
    "## Summary & Next Steps\n",
    "\n",
    "In this notebook, we've learned that:\n",
    "1.  A **stochastic process** models a system that evolves randomly over time.\n",
    "2.  We can classify them based on whether **time** is discrete or continuous.\n",
    "3.  We can also classify them based on whether the **state space** (possible values) is discrete or continuous.\n",
    "4.  Visualizing simple simulations helps build a strong intuition for these concepts.\n",
    "\n",
    "In **Week 2**, we will dive deeper into the first example we saw: the **Random Walk**, and explore one of its most famous applications, the **Gambler's Ruin Problem**."
   ]
  }
 ],
 "metadata": {
  "kernelspec": {
   "display_name": "Python 3",
   "language": "python",
   "name": "python3"
  },
  "language_info": {
   "codemirror_mode": {
    "name": "ipython",
    "version": 3
   },
   "file_extension": ".py",
   "mimetype": "text/x-python",
   "name": "python",
   "nbconvert_exporter": "python",
   "pygments_lexer": "ipython3",
   "version": "3.9.7"
  }
 },
 "nbformat": 4,
 "nbformat_minor": 4
}