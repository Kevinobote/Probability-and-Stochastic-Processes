{
 "cells": [
  {
   "cell_type": "markdown",
   "metadata": {},
   "source": [
    "# Week 5: Branching Processes\n",
    "\n",
    "**Objective:** Understand how to model population growth and extinction using branching processes, calculate the expected population size, and determine the probability of extinction."
   ]
  },
  {
   "cell_type": "markdown",
   "metadata": {},
   "source": [
    "## Step 1: Build Intuition\n",
    "\n",
    "Imagine an ancient family surname. In each generation, every male member has a random number of sons who will carry on the name. Some may have no sons, some may have one, some may have several. The family name survives only if the line of male descendants continues.\n",
    "\n",
    "A **branching process** is a mathematical model for this exact scenario. It tracks the size of a population that evolves in discrete generations. Each individual in one generation produces a random number of \"offspring\" for the next generation, and then \"dies\" (is no longer counted).\n",
    "\n",
    "**Key Questions:**\n",
    "- Will the family name eventually die out (go extinct)?\n",
    "- What is the expected number of descendants in a future generation?\n",
    "\n",
    "This model applies to many things: spread of a virus, replication of DNA, or even a nuclear chain reaction."
   ]
  },
  {
   "cell_type": "markdown",
   "metadata": {},
   "source": [
    "## Step 2: Understand the Core Idea\n",
    "\n",
    "A branching process is built on a simple, powerful rule:\n",
    "\n",
    "**The population size in generation `n+1` is the sum of the offspring of all individuals in generation `n`.**\n",
    "\n",
    "To define the process, we need two things:\n",
    "1.  **Initial Population Size (Z₀):** The number of individuals we start with (usually `Z₀ = 1`).\n",
    "2.  **Offspring Distribution:** A probability distribution that describes how many offspring a single individual produces. This distribution is the same for all individuals in all generations, and the number of offspring for each individual is an independent random variable."
   ]
  },
  {
   "cell_type": "markdown",
   "metadata": {},
   "source": [
    "## Step 3: Learn the Definitions and Formulas\n",
    "\n",
    "**Definition: Branching Process**\n",
    "A branching process is a discrete-time Markov chain \\({Z_n, n \\ge 0}\\) representing the population size in generation \\(n\\). It is defined by:\n",
    "- \\(Z_0 = 1\\) (or some other starting integer).\n",
    "- \\(Z_{n+1} = \\sum_{i=1}^{Z_n} X_{i,n}\\), where \\(X_{i,n}\\) is the number of offspring of the \\(i\\)-th individual in generation \\(n\\).\n",
    "- All \\(X_{i,n}\\) are independent, identically distributed random variables drawn from the **offspring distribution**.\n",
    "\n",
    "--- \n",
    "\n",
    "**Expected Population Size**\n",
    "Let \\(\\mu\\) be the mean of the offspring distribution (the average number of offspring per individual). The expected population size in generation \\(n\\) is:\n",
    "$$ E[Z_n] = \\mu^n Z_0 $$\n",
    "If we start with one individual (\\(Z_0=1\\)), then \\(E[Z_n] = \\mu^n\\).\n",
    "\n",
    "--- \n",
    "\n",
    "**Probability of Extinction**\n",
    "The long-term behavior of the process depends critically on the mean offspring number, \\(\\mu\\).\n",
    "\n",
    "1.  If **\\(\\mu < 1\\)**: The population is expected to shrink. Extinction is **certain** (probability of extinction is 1).\n",
    "2.  If **\\(\\mu = 1\\)**: The population is expected to stay constant, but random fluctuations will eventually drive it to 0. Extinction is **certain** (unless each individual produces exactly 1 offspring with probability 1).\n",
    "3.  If **\\(\\mu > 1\\)**: The population is expected to grow. There is a **chance of survival**. The probability of extinction, \\(q\\), is the smallest non-negative root of the equation \\(g(s) = s\\), where \\(g(s)\\) is the probability generating function of the offspring distribution."
   ]
  },
  {
   "cell_type": "markdown",
   "metadata": {},
   "source": [
    "## Step 4: Apply and Practice\n",
    "\n",
    "Let's simulate a branching process to see this behavior in action. We'll assume the number of offspring for any individual follows a **Poisson distribution**, which is a common choice for modeling births or arrivals.\n",
    "\n",
    "The mean of a Poisson distribution is its parameter, \\(\\lambda\\). So, \\(\\mu = \\lambda\\)."
   ]
  },
  {
   "cell_type": "code",
   "execution_count": null,
   "metadata": {},
   "outputs": [],
   "source": [
    "import numpy as np\n",
    "import matplotlib.pyplot as plt\n",
    "\n",
    "plt.style.use('seaborn-v0_8-whitegrid')"
   ]
  },
  {
   "cell_type": "markdown",
   "metadata": {},
   "source": [
    "### Part A: Simulating the Process\n",
    "\n",
    "Let's write a function to simulate one path of a branching process."
   ]
  },
  {
   "cell_type": "code",
   "execution_count": null,
   "metadata": {},
   "outputs": [],
   "source": [
    "def simulate_branching_process(start_pop, mu, num_generations):\n",
    "    \"\"\"\n",
    "    Simulates a branching process with a Poisson offspring distribution.\n",
    "    \n",
    "    Args:\n",
    "        start_pop (int): The initial population size, Z_0.\n",
    "        mu (float): The mean of the Poisson offspring distribution (lambda).\n",
    "        num_generations (int): The number of generations to simulate.\n",
    "        \n",
    "    Returns:\n",
    "        list: A list of population sizes for each generation.\n",
    "    \"\"\"\n",
    "    population_path = [start_pop]\n",
    "    current_pop = start_pop\n",
    "    \n",
    "    for _ in range(num_generations):\n",
    "        if current_pop == 0:\n",
    "            # Once extinct, stays extinct\n",
    "            population_path.append(0)\n",
    "            continue\n",
    "            \n",
    "        # Each individual in the current population has a random number of offspring\n",
    "        # drawn from a Poisson distribution with mean mu.\n",
    "        offspring = np.random.poisson(mu, size=current_pop)\n",
    "        \n",
    "        # The next generation's population is the sum of all offspring\n",
    "        current_pop = np.sum(offspring)\n",
    "        population_path.append(current_pop)\n",
    "        \n",
    "    return population_path"
   ]
  },
  {
   "cell_type": "markdown",
   "metadata": {},
   "source": [
    "### Part B: Visualizing Extinction and Explosion\n",
    "\n",
    "Let's simulate the three cases for \\(\\mu\\) to see the different behaviors.\n",
    "\n",
    "1.  **Subcritical (\\(\\mu < 1\\)):** Population dies out.\n",
    "2.  **Critical (\\(\\mu = 1\\)):** Population dies out (usually).\n",
    "3.  **Supercritical (\\(\\mu > 1\\)):** Population either dies out or explodes."
   ]
  },
  {
   "cell_type": "code",
   "execution_count": null,
   "metadata": {},
   "outputs": [],
   "source": [
    "def plot_simulations(mu, num_sims, num_gens, ax):\n",
    "    \"\"\"Helper function to run and plot multiple simulations.\"\"\"\n",
    "    extinction_count = 0\n",
    "    for _ in range(num_sims):\n",
    "        path = simulate_branching_process(start_pop=1, mu=mu, num_generations=num_gens)\n",
    "        if path[-1] == 0:\n",
    "            extinction_count += 1\n",
    "        ax.plot(path, alpha=0.5)\n",
    "    \n",
    "    # Plot theoretical expectation\n",
    "    generations = np.arange(num_gens + 1)\n",
    "    expected_path = [mu**n for n in generations]\n",
    "    ax.plot(generations, expected_path, color='black', linestyle='--', label=f'E[Z_n] = {mu}^n')\n",
    "    \n",
    "    ax.set_title(f'Supercritical Case ($\\mu = {mu}$)')\n",
    "    ax.set_xlabel('Generation')\n",
    "    ax.set_ylabel('Population Size')\n",
    "    ax.set_ylim(0, 100) # Set a y-limit to see the extinctions clearly\n",
    "    ax.legend()\n",
    "    ax.grid(True)\n",
    "    print(f\"For mu={mu}, extinction occurred in {extinction_count}/{num_sims} simulations.\")\n",
    "\n",
    "# --- Simulation Parameters ---\n",
    "N_SIMS = 50\n",
    "N_GENS = 20\n",
    "\n",
    "fig, axes = plt.subplots(1, 3, figsize=(20, 6), sharey=True)\n",
    "\n",
    "# Case 1: Subcritical\n",
    "mu_sub = 0.8\n",
    "plot_simulations(mu_sub, N_SIMS, N_GENS, axes[0])\n",
    "axes[0].set_title(f'Subcritical Case ($\\mu = {mu_sub}$)')\n",
    "\n",
    "# Case 2: Critical\n",
    "mu_crit = 1.0\n",
    "plot_simulations(mu_crit, N_SIMS, N_GENS, axes[1])\n",
    "axes[1].set_title(f'Critical Case ($\\mu = {mu_crit}$)')\n",
    "\n",
    "# Case 3: Supercritical\n",
    "mu_super = 1.2\n",
    "plot_simulations(mu_super, N_SIMS, N_GENS, axes[2])\n",
    "axes[2].set_title(f'Supercritical Case ($\\mu = {mu_super}$)')\n",
    "\n",
    "plt.suptitle('Branching Process Simulations', fontsize=16)\n",
    "plt.tight_layout(rect=[0, 0, 1, 0.96])\n",
    "plt.show()"
   ]
  },
  {
   "cell_type": "markdown",
   "metadata": {},
   "source": [
    "**Interpretation of the Plots:**\n",
    "\n",
    "- **Subcritical (μ=0.8):** As expected, all simulation paths quickly go to zero. The expected population (black dashed line) also trends towards zero.\n",
    "- **Critical (μ=1.0):** The expected population is constant at 1. However, nearly every single simulation path eventually hits zero. This is a key insight: a fair game (on average) still leads to extinction due to random variation.\n",
    "- **Supercritical (μ=1.2):** This is the most interesting case. The expected population grows exponentially. But the individual paths show an \"all-or-nothing\" behavior. Many paths still go extinct early on. However, the few that survive tend to grow very large, very quickly. The average is pulled up by these explosive survivors."
   ]
  },
  {
   "cell_type": "markdown",
   "metadata": {},
   "source": [
    "## Summary & Next Steps\n",
    "\n",
    "In this notebook, we've learned:\n",
    "1.  A **Branching Process** models population dynamics where individuals in one generation produce a random number of offspring for the next.\n",
    "2.  The long-term behavior is governed by \\(\\mu\\), the mean of the offspring distribution.\n",
    "3.  If \\(\\mu \\le 1\\), extinction is almost certain.\n",
    "4.  If \\(\\mu > 1\\), there is a non-zero probability of survival and explosive growth, but also a significant chance of early extinction.\n",
    "5.  The expected population size \\(E[Z_n] = \\mu^n\\) can be misleading, as it averages the many extinctions with the few explosions.\n",
    "\n",
    "In **Week 6**, we will shift our focus to continuous-time processes and introduce the **Poisson Process**, a fundamental model for counting random events occurring over time."
   ]
  }
 ],
 "metadata": {
  "kernelspec": {
   "display_name": "Python 3",
   "language": "python",
   "name": "python3"
  },
  "language_info": {
   "codemirror_mode": {
    "name": "ipython",
    "version": 3
   },
   "file_extension": ".py",
   "mimetype": "text/x-python",
   "name": "python",
   "nbconvert_exporter": "python",
   "pygments_lexer": "ipython3",
   "version": "3.9.7"
  }
 },
 "nbformat": 4,
 "nbformat_minor": 4
}